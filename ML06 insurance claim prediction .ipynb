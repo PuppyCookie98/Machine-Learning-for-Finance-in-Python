{
 "cells": [
  {
   "cell_type": "markdown",
   "id": "2bc0d835",
   "metadata": {},
   "source": [
    "# Preprocessing "
   ]
  },
  {
   "cell_type": "code",
   "execution_count": 4,
   "id": "5c18f701",
   "metadata": {},
   "outputs": [],
   "source": [
    "import pandas as pd\n",
    "import numpy as np\n",
    "import seaborn as sns\n",
    "import matplotlib.pyplot as plt"
   ]
  },
  {
   "cell_type": "code",
   "execution_count": 9,
   "id": "41dbb0e4",
   "metadata": {},
   "outputs": [
    {
     "data": {
      "text/html": [
       "<div>\n",
       "<style scoped>\n",
       "    .dataframe tbody tr th:only-of-type {\n",
       "        vertical-align: middle;\n",
       "    }\n",
       "\n",
       "    .dataframe tbody tr th {\n",
       "        vertical-align: top;\n",
       "    }\n",
       "\n",
       "    .dataframe thead th {\n",
       "        text-align: right;\n",
       "    }\n",
       "</style>\n",
       "<table border=\"1\" class=\"dataframe\">\n",
       "  <thead>\n",
       "    <tr style=\"text-align: right;\">\n",
       "      <th></th>\n",
       "      <th>age</th>\n",
       "      <th>gender</th>\n",
       "      <th>bmi</th>\n",
       "      <th>children</th>\n",
       "      <th>smoker</th>\n",
       "      <th>region</th>\n",
       "      <th>charges</th>\n",
       "      <th>insurance_claim</th>\n",
       "    </tr>\n",
       "  </thead>\n",
       "  <tbody>\n",
       "    <tr>\n",
       "      <th>0</th>\n",
       "      <td>19</td>\n",
       "      <td>0</td>\n",
       "      <td>27.900</td>\n",
       "      <td>0</td>\n",
       "      <td>1</td>\n",
       "      <td>3</td>\n",
       "      <td>16884.92400</td>\n",
       "      <td>1</td>\n",
       "    </tr>\n",
       "    <tr>\n",
       "      <th>1</th>\n",
       "      <td>18</td>\n",
       "      <td>1</td>\n",
       "      <td>33.770</td>\n",
       "      <td>1</td>\n",
       "      <td>0</td>\n",
       "      <td>2</td>\n",
       "      <td>1725.55230</td>\n",
       "      <td>1</td>\n",
       "    </tr>\n",
       "    <tr>\n",
       "      <th>2</th>\n",
       "      <td>28</td>\n",
       "      <td>1</td>\n",
       "      <td>33.000</td>\n",
       "      <td>3</td>\n",
       "      <td>0</td>\n",
       "      <td>2</td>\n",
       "      <td>4449.46200</td>\n",
       "      <td>0</td>\n",
       "    </tr>\n",
       "    <tr>\n",
       "      <th>3</th>\n",
       "      <td>33</td>\n",
       "      <td>1</td>\n",
       "      <td>22.705</td>\n",
       "      <td>0</td>\n",
       "      <td>0</td>\n",
       "      <td>1</td>\n",
       "      <td>21984.47061</td>\n",
       "      <td>0</td>\n",
       "    </tr>\n",
       "    <tr>\n",
       "      <th>4</th>\n",
       "      <td>32</td>\n",
       "      <td>1</td>\n",
       "      <td>28.880</td>\n",
       "      <td>0</td>\n",
       "      <td>0</td>\n",
       "      <td>1</td>\n",
       "      <td>3866.85520</td>\n",
       "      <td>1</td>\n",
       "    </tr>\n",
       "  </tbody>\n",
       "</table>\n",
       "</div>"
      ],
      "text/plain": [
       "   age  gender     bmi  children  smoker  region      charges  insurance_claim\n",
       "0   19       0  27.900         0       1       3  16884.92400                1\n",
       "1   18       1  33.770         1       0       2   1725.55230                1\n",
       "2   28       1  33.000         3       0       2   4449.46200                0\n",
       "3   33       1  22.705         0       0       1  21984.47061                0\n",
       "4   32       1  28.880         0       0       1   3866.85520                1"
      ]
     },
     "execution_count": 9,
     "metadata": {},
     "output_type": "execute_result"
    }
   ],
   "source": [
    "df = pd.read_csv('/Users/annacui/Desktop/insurance.csv') \n",
    "df.head()"
   ]
  },
  {
   "cell_type": "markdown",
   "id": "ec47624b",
   "metadata": {},
   "source": [
    "## Variable Description "
   ]
  },
  {
   "cell_type": "markdown",
   "id": "fafa0ea2",
   "metadata": {},
   "source": [
    "- age : age of policyholder \n",
    "- gender: gender of policy holder (female=0, male=1) \n",
    "- bmi: Body mass index, providing an understanding of body, weights that are relatively high or low relative to height, objective index of body weight (kg / m ^ 2) using the ratio of height to weight, ideally 18.5 to 25 \n",
    "- steps: average number of walking steps per day \n",
    "- children: number of children / dependents of policyholder \n",
    "- smoker: smoking state of policyholder (non-smoke=0;smoker=1) \n",
    "- region: the residential area of policyholder in the US (northeast=0, northwest=1, southeast=2, southwest=3) \n",
    "- charges: individual medical costs billed by health insurance "
   ]
  },
  {
   "cell_type": "code",
   "execution_count": 10,
   "id": "a6d65e4f",
   "metadata": {},
   "outputs": [
    {
     "data": {
      "text/plain": [
       "age                0\n",
       "gender             0\n",
       "bmi                0\n",
       "children           0\n",
       "smoker             0\n",
       "region             0\n",
       "charges            0\n",
       "insurance_claim    0\n",
       "dtype: int64"
      ]
     },
     "execution_count": 10,
     "metadata": {},
     "output_type": "execute_result"
    }
   ],
   "source": [
    "df.isnull().sum() \n",
    "# make sure data is clean "
   ]
  },
  {
   "cell_type": "markdown",
   "id": "27ef9817",
   "metadata": {},
   "source": [
    "## Exploratory Data Analysis "
   ]
  },
  {
   "cell_type": "code",
   "execution_count": 84,
   "id": "1a0d6116",
   "metadata": {
    "scrolled": true
   },
   "outputs": [
    {
     "data": {
      "text/plain": [
       "Text(0.5, 1.0, 'Correlation of all variables')"
      ]
     },
     "execution_count": 84,
     "metadata": {},
     "output_type": "execute_result"
    },
    {
     "data": {
      "image/png": "[encoded data removed]",
      "text/plain": [
       "<Figure size 864x576 with 2 Axes>"
      ]
     },
     "metadata": {
      "needs_background": "light"
     },
     "output_type": "display_data"
    }
   ],
   "source": [
    "corr = df.corr() \n",
    "plt.figure(figsize=(12,8))  \n",
    "sns.heatmap(corr,\n",
    "           xticklabels=corr.columns,\n",
    "           yticklabels=corr.columns) \n",
    "plt.title('Correlation of all variables', fontsize = 16) "
   ]
  },
  {
   "cell_type": "code",
   "execution_count": 72,
   "id": "5f0b694b",
   "metadata": {},
   "outputs": [
    {
     "data": {
      "text/plain": [
       "Text(0.5, 1.0, 'charges & Gender')"
      ]
     },
     "execution_count": 72,
     "metadata": {},
     "output_type": "execute_result"
    },
    {
     "data": {
      "image/png": "[encoded data removed]",
      "text/plain": [
       "<Figure size 864x576 with 1 Axes>"
      ]
     },
     "metadata": {
      "needs_background": "light"
     },
     "output_type": "display_data"
    }
   ],
   "source": [
    "plt.figure(figsize=(12,8)) \n",
    "sns.barplot(x='gender',y='charges',data=df) \n",
    "plt.title('charges & Gender',fontsize=20)  "
   ]
  },
  {
   "cell_type": "code",
   "execution_count": 73,
   "id": "79eb3457",
   "metadata": {},
   "outputs": [
    {
     "data": {
      "text/plain": [
       "Text(0.5, 1.0, 'Charges & Age')"
      ]
     },
     "execution_count": 73,
     "metadata": {},
     "output_type": "execute_result"
    },
    {
     "data": {
      "image/png": "[encoded data removed]",
      "text/plain": [
       "<Figure size 864x576 with 1 Axes>"
      ]
     },
     "metadata": {
      "needs_background": "light"
     },
     "output_type": "display_data"
    }
   ],
   "source": [
    "plt.figure(figsize=(12,8)) \n",
    "sns.barplot(x='age',y='charges',data=df) \n",
    "plt.title('Charges & Age',fontsize=20)  "
   ]
  },
  {
   "cell_type": "code",
   "execution_count": 75,
   "id": "e5b607d4",
   "metadata": {},
   "outputs": [
    {
     "data": {
      "text/plain": [
       "Text(0.5, 1.0, 'Charges & BMI')"
      ]
     },
     "execution_count": 75,
     "metadata": {},
     "output_type": "execute_result"
    },
    {
     "data": {
      "image/png": "[encoded data removed]",
      "text/plain": [
       "<Figure size 864x576 with 1 Axes>"
      ]
     },
     "metadata": {
      "needs_background": "light"
     },
     "output_type": "display_data"
    }
   ],
   "source": [
    "plt.figure(figsize=(12,8)) \n",
    "sns.lineplot(x='bmi',y='charges',data=df) \n",
    "plt.title('Charges & BMI',fontsize=20) "
   ]
  },
  {
   "cell_type": "code",
   "execution_count": 80,
   "id": "112376f2",
   "metadata": {},
   "outputs": [
    {
     "data": {
      "text/plain": [
       "Text(0.5, 1.0, 'Charges & Number of Children')"
      ]
     },
     "execution_count": 80,
     "metadata": {},
     "output_type": "execute_result"
    },
    {
     "data": {
      "image/png": "[encoded data removed]",
      "text/plain": [
       "<Figure size 864x576 with 1 Axes>"
      ]
     },
     "metadata": {
      "needs_background": "light"
     },
     "output_type": "display_data"
    }
   ],
   "source": [
    "plt.figure(figsize = (12, 8))\n",
    "sns.barplot(x = 'children', y = 'charges', data = df) \n",
    "plt.title('Charges & Number of Children',fontsize=20) "
   ]
  },
  {
   "cell_type": "code",
   "execution_count": 81,
   "id": "451445fa",
   "metadata": {},
   "outputs": [
    {
     "data": {
      "text/plain": [
       "Text(0.5, 1.0, 'Charges & Smoker')"
      ]
     },
     "execution_count": 81,
     "metadata": {},
     "output_type": "execute_result"
    },
    {
     "data": {
      "image/png": "[encoded data removed]",
      "text/plain": [
       "<Figure size 864x576 with 1 Axes>"
      ]
     },
     "metadata": {
      "needs_background": "light"
     },
     "output_type": "display_data"
    }
   ],
   "source": [
    "plt.figure(figsize = (12, 8))\n",
    "sns.barplot(x = 'smoker', y = 'charges', data = df) \n",
    "plt.title('Charges & Smoker',fontsize=20)  "
   ]
  },
  {
   "cell_type": "markdown",
   "id": "3d79f3b8",
   "metadata": {},
   "source": [
    "## Train test split "
   ]
  },
  {
   "cell_type": "code",
   "execution_count": 16,
   "id": "1803f138",
   "metadata": {},
   "outputs": [],
   "source": [
    "from sklearn.model_selection import train_test_split "
   ]
  },
  {
   "cell_type": "code",
   "execution_count": 65,
   "id": "c40c67d9",
   "metadata": {},
   "outputs": [],
   "source": [
    "x = df.iloc[:,:7]\n",
    "y = df.iloc[:,7] \n",
    "x_train, x_test, y_train, y_test = train_test_split(x, \n",
    "                                                    y, \n",
    "                                                    test_size=0.30,\n",
    "                                                    random_state=1910)  "
   ]
  },
  {
   "cell_type": "code",
   "execution_count": 66,
   "id": "4f359128",
   "metadata": {},
   "outputs": [
    {
     "data": {
      "text/html": [
       "<div>\n",
       "<style scoped>\n",
       "    .dataframe tbody tr th:only-of-type {\n",
       "        vertical-align: middle;\n",
       "    }\n",
       "\n",
       "    .dataframe tbody tr th {\n",
       "        vertical-align: top;\n",
       "    }\n",
       "\n",
       "    .dataframe thead th {\n",
       "        text-align: right;\n",
       "    }\n",
       "</style>\n",
       "<table border=\"1\" class=\"dataframe\">\n",
       "  <thead>\n",
       "    <tr style=\"text-align: right;\">\n",
       "      <th></th>\n",
       "      <th>age</th>\n",
       "      <th>gender</th>\n",
       "      <th>bmi</th>\n",
       "      <th>children</th>\n",
       "      <th>smoker</th>\n",
       "      <th>region</th>\n",
       "      <th>charges</th>\n",
       "    </tr>\n",
       "  </thead>\n",
       "  <tbody>\n",
       "    <tr>\n",
       "      <th>334</th>\n",
       "      <td>43</td>\n",
       "      <td>0</td>\n",
       "      <td>35.720</td>\n",
       "      <td>2</td>\n",
       "      <td>0</td>\n",
       "      <td>0</td>\n",
       "      <td>19144.57652</td>\n",
       "    </tr>\n",
       "    <tr>\n",
       "      <th>438</th>\n",
       "      <td>52</td>\n",
       "      <td>0</td>\n",
       "      <td>46.750</td>\n",
       "      <td>5</td>\n",
       "      <td>0</td>\n",
       "      <td>2</td>\n",
       "      <td>12592.53450</td>\n",
       "    </tr>\n",
       "    <tr>\n",
       "      <th>1035</th>\n",
       "      <td>54</td>\n",
       "      <td>0</td>\n",
       "      <td>23.000</td>\n",
       "      <td>3</td>\n",
       "      <td>0</td>\n",
       "      <td>3</td>\n",
       "      <td>12094.47800</td>\n",
       "    </tr>\n",
       "    <tr>\n",
       "      <th>276</th>\n",
       "      <td>19</td>\n",
       "      <td>1</td>\n",
       "      <td>20.615</td>\n",
       "      <td>2</td>\n",
       "      <td>0</td>\n",
       "      <td>1</td>\n",
       "      <td>2803.69785</td>\n",
       "    </tr>\n",
       "    <tr>\n",
       "      <th>293</th>\n",
       "      <td>22</td>\n",
       "      <td>0</td>\n",
       "      <td>28.820</td>\n",
       "      <td>0</td>\n",
       "      <td>0</td>\n",
       "      <td>2</td>\n",
       "      <td>2156.75180</td>\n",
       "    </tr>\n",
       "    <tr>\n",
       "      <th>...</th>\n",
       "      <td>...</td>\n",
       "      <td>...</td>\n",
       "      <td>...</td>\n",
       "      <td>...</td>\n",
       "      <td>...</td>\n",
       "      <td>...</td>\n",
       "      <td>...</td>\n",
       "    </tr>\n",
       "    <tr>\n",
       "      <th>1032</th>\n",
       "      <td>30</td>\n",
       "      <td>0</td>\n",
       "      <td>27.930</td>\n",
       "      <td>0</td>\n",
       "      <td>0</td>\n",
       "      <td>0</td>\n",
       "      <td>4137.52270</td>\n",
       "    </tr>\n",
       "    <tr>\n",
       "      <th>399</th>\n",
       "      <td>18</td>\n",
       "      <td>0</td>\n",
       "      <td>38.170</td>\n",
       "      <td>0</td>\n",
       "      <td>0</td>\n",
       "      <td>2</td>\n",
       "      <td>1631.66830</td>\n",
       "    </tr>\n",
       "    <tr>\n",
       "      <th>607</th>\n",
       "      <td>59</td>\n",
       "      <td>0</td>\n",
       "      <td>23.655</td>\n",
       "      <td>0</td>\n",
       "      <td>1</td>\n",
       "      <td>1</td>\n",
       "      <td>25678.77845</td>\n",
       "    </tr>\n",
       "    <tr>\n",
       "      <th>1117</th>\n",
       "      <td>25</td>\n",
       "      <td>1</td>\n",
       "      <td>33.330</td>\n",
       "      <td>2</td>\n",
       "      <td>1</td>\n",
       "      <td>2</td>\n",
       "      <td>36124.57370</td>\n",
       "    </tr>\n",
       "    <tr>\n",
       "      <th>260</th>\n",
       "      <td>58</td>\n",
       "      <td>0</td>\n",
       "      <td>25.200</td>\n",
       "      <td>0</td>\n",
       "      <td>0</td>\n",
       "      <td>3</td>\n",
       "      <td>11837.16000</td>\n",
       "    </tr>\n",
       "  </tbody>\n",
       "</table>\n",
       "<p>936 rows × 7 columns</p>\n",
       "</div>"
      ],
      "text/plain": [
       "      age  gender     bmi  children  smoker  region      charges\n",
       "334    43       0  35.720         2       0       0  19144.57652\n",
       "438    52       0  46.750         5       0       2  12592.53450\n",
       "1035   54       0  23.000         3       0       3  12094.47800\n",
       "276    19       1  20.615         2       0       1   2803.69785\n",
       "293    22       0  28.820         0       0       2   2156.75180\n",
       "...   ...     ...     ...       ...     ...     ...          ...\n",
       "1032   30       0  27.930         0       0       0   4137.52270\n",
       "399    18       0  38.170         0       0       2   1631.66830\n",
       "607    59       0  23.655         0       1       1  25678.77845\n",
       "1117   25       1  33.330         2       1       2  36124.57370\n",
       "260    58       0  25.200         0       0       3  11837.16000\n",
       "\n",
       "[936 rows x 7 columns]"
      ]
     },
     "execution_count": 66,
     "metadata": {},
     "output_type": "execute_result"
    }
   ],
   "source": [
    "x_train  "
   ]
  },
  {
   "cell_type": "code",
   "execution_count": 67,
   "id": "f4af54b1",
   "metadata": {},
   "outputs": [],
   "source": [
    "train_label = np.asarray(y_train) \n",
    "train_data = np.asarray(x_train) \n",
    "\n",
    "test_label = np.asarray(y_test) \n",
    "test_data = np.asarray(x_test) "
   ]
  },
  {
   "cell_type": "code",
   "execution_count": 85,
   "id": "7d63453d",
   "metadata": {
    "collapsed": true
   },
   "outputs": [
    {
     "data": {
      "text/plain": [
       "array([1, 1, 0, 0, 1, 1, 0, 1, 1, 1, 0, 1, 1, 1, 1, 1, 1, 0, 0, 1, 1, 1,\n",
       "       1, 1, 1, 0, 0, 0, 1, 0, 0, 0, 0, 1, 0, 1, 0, 1, 1, 0, 0, 0, 1, 1,\n",
       "       0, 1, 1, 1, 0, 1, 1, 1, 0, 0, 0, 1, 1, 0, 0, 1, 1, 0, 1, 1, 0, 0,\n",
       "       1, 0, 0, 1, 1, 0, 1, 0, 1, 1, 1, 1, 0, 0, 1, 0, 1, 0, 0, 1, 0, 0,\n",
       "       1, 1, 1, 0, 1, 0, 1, 0, 1, 1, 1, 1, 1, 1, 1, 0, 0, 0, 1, 1, 0, 1,\n",
       "       1, 1, 1, 1, 0, 1, 1, 1, 0, 1, 0, 1, 1, 1, 0, 1, 1, 1, 0, 0, 1, 1,\n",
       "       1, 1, 0, 0, 1, 1, 0, 1, 0, 0, 1, 1, 1, 1, 1, 1, 1, 0, 0, 0, 0, 1,\n",
       "       1, 1, 1, 1, 1, 0, 1, 0, 1, 1, 1, 1, 1, 0, 1, 0, 0, 0, 1, 0, 0, 1,\n",
       "       0, 1, 1, 0, 0, 0, 1, 1, 1, 1, 1, 0, 1, 1, 1, 0, 1, 0, 0, 0, 1, 1,\n",
       "       1, 1, 1, 1, 0, 1, 1, 1, 1, 1, 0, 1, 1, 1, 1, 1, 1, 0, 1, 0, 1, 0,\n",
       "       0, 0, 0, 0, 0, 0, 1, 1, 0, 1, 1, 0, 0, 1, 0, 1, 1, 0, 1, 1, 0, 0,\n",
       "       0, 1, 0, 0, 0, 1, 1, 1, 1, 1, 0, 0, 0, 0, 0, 1, 1, 1, 1, 0, 0, 1,\n",
       "       1, 0, 0, 1, 1, 1, 0, 1, 1, 1, 1, 1, 0, 1, 1, 1, 1, 1, 0, 0, 1, 1,\n",
       "       1, 1, 1, 1, 0, 1, 0, 0, 0, 1, 1, 0, 0, 1, 1, 1, 0, 0, 0, 1, 1, 0,\n",
       "       1, 0, 0, 1, 1, 1, 1, 0, 1, 0, 1, 1, 0, 0, 1, 1, 1, 0, 0, 1, 0, 0,\n",
       "       0, 1, 1, 0, 0, 1, 1, 0, 1, 1, 1, 0, 0, 0, 0, 1, 1, 0, 1, 1, 0, 1,\n",
       "       0, 0, 1, 1, 1, 1, 1, 0, 0, 1, 0, 1, 1, 1, 1, 1, 0, 1, 0, 1, 1, 0,\n",
       "       1, 1, 0, 1, 0, 1, 1, 0, 1, 1, 1, 0, 0, 0, 1, 1, 1, 1, 1, 0, 1, 1,\n",
       "       1, 1, 0, 1, 1, 1, 1, 1, 1, 0, 1, 0, 1, 0, 0, 0, 1, 0, 1, 1, 1, 1,\n",
       "       0, 0, 1, 1, 0, 0, 1, 0, 0, 0, 0, 1, 0, 0, 0, 1, 0, 1, 1, 1, 0, 1,\n",
       "       1, 1, 0, 1, 1, 0, 0, 0, 1, 0, 1, 1, 0, 0, 1, 0, 1, 1, 1, 0, 0, 0,\n",
       "       0, 1, 1, 1, 1, 1, 0, 1, 1, 1, 1, 1, 1, 1, 1, 0, 1, 1, 0, 0, 1, 0,\n",
       "       1, 1, 1, 1, 0, 1, 1, 0, 0, 0, 0, 0, 1, 0, 1, 1, 0, 1, 0, 1, 0, 1,\n",
       "       1, 0, 1, 1, 1, 0, 1, 1, 1, 1, 1, 0, 1, 1, 1, 1, 1, 0, 0, 0, 1, 0,\n",
       "       0, 1, 0, 0, 1, 0, 0, 1, 1, 0, 0, 1, 0, 1, 1, 1, 0, 0, 0, 1, 0, 1,\n",
       "       1, 0, 1, 1, 1, 0, 0, 1, 0, 1, 1, 0, 0, 0, 1, 0, 1, 1, 0, 1, 0, 0,\n",
       "       1, 0, 0, 0, 1, 0, 1, 0, 1, 1, 1, 0, 1, 1, 0, 0, 1, 1, 1, 1, 1, 1,\n",
       "       1, 1, 1, 0, 0, 0, 1, 1, 1, 0, 1, 1, 1, 1, 1, 1, 0, 0, 1, 1, 0, 1,\n",
       "       0, 0, 1, 0, 1, 1, 0, 1, 0, 1, 1, 0, 0, 1, 1, 1, 1, 1, 1, 1, 1, 1,\n",
       "       0, 1, 1, 1, 0, 1, 0, 1, 1, 1, 1, 1, 1, 0, 1, 1, 0, 1, 1, 0, 1, 1,\n",
       "       1, 1, 0, 0, 0, 1, 1, 0, 1, 0, 0, 1, 1, 1, 1, 1, 1, 1, 1, 1, 0, 0,\n",
       "       1, 1, 1, 1, 1, 1, 1, 1, 1, 1, 1, 0, 0, 0, 0, 1, 1, 0, 0, 1, 1, 0,\n",
       "       0, 0, 0, 1, 1, 1, 0, 0, 1, 0, 1, 1, 1, 1, 1, 1, 1, 1, 1, 0, 0, 0,\n",
       "       0, 0, 1, 1, 1, 1, 1, 0, 0, 1, 0, 1, 1, 1, 0, 1, 0, 0, 0, 0, 0, 1,\n",
       "       1, 1, 0, 1, 1, 1, 0, 1, 0, 0, 1, 1, 0, 0, 0, 0, 1, 1, 0, 1, 1, 1,\n",
       "       1, 1, 0, 0, 0, 0, 0, 0, 0, 0, 1, 0, 0, 1, 1, 1, 0, 0, 0, 1, 1, 1,\n",
       "       1, 1, 1, 0, 1, 1, 1, 0, 1, 0, 0, 1, 0, 0, 1, 0, 0, 1, 1, 1, 1, 1,\n",
       "       1, 1, 0, 0, 0, 1, 1, 1, 0, 0, 1, 1, 0, 0, 1, 1, 1, 0, 1, 0, 0, 0,\n",
       "       1, 1, 1, 0, 0, 1, 1, 0, 1, 1, 1, 0, 1, 0, 0, 0, 1, 1, 0, 0, 0, 1,\n",
       "       1, 0, 0, 1, 1, 0, 0, 1, 1, 0, 1, 1, 1, 0, 1, 1, 1, 0, 0, 0, 1, 1,\n",
       "       1, 1, 1, 0, 1, 0, 1, 1, 0, 0, 0, 1, 1, 1, 1, 1, 1, 0, 1, 0, 1, 0,\n",
       "       1, 1, 0, 1, 0, 1, 1, 0, 1, 1, 0, 0, 1, 0, 0, 0, 1, 1, 0, 0, 1, 0,\n",
       "       0, 1, 1, 1, 1, 0, 1, 1, 1, 1, 1, 0])"
      ]
     },
     "execution_count": 85,
     "metadata": {},
     "output_type": "execute_result"
    }
   ],
   "source": [
    "train_label"
   ]
  },
  {
   "cell_type": "markdown",
   "id": "0e1baf39",
   "metadata": {},
   "source": [
    "## Standarization "
   ]
  },
  {
   "cell_type": "code",
   "execution_count": 62,
   "id": "8a50204e",
   "metadata": {},
   "outputs": [],
   "source": [
    "mean = np.mean(train_data,axis=0) \n",
    "std = np.std(train_data,axis=0)\n",
    "\n",
    "train_data = (train_data - mean) "
   ]
  },
  {
   "cell_type": "code",
   "execution_count": 63,
   "id": "122818a1",
   "metadata": {},
   "outputs": [],
   "source": [
    "from sklearn.preprocessing import StandardScaler \n"
   ]
  },
  {
   "cell_type": "code",
   "execution_count": 86,
   "id": "48ca3642",
   "metadata": {},
   "outputs": [
    {
     "data": {
      "text/html": [
       "<div>\n",
       "<style scoped>\n",
       "    .dataframe tbody tr th:only-of-type {\n",
       "        vertical-align: middle;\n",
       "    }\n",
       "\n",
       "    .dataframe tbody tr th {\n",
       "        vertical-align: top;\n",
       "    }\n",
       "\n",
       "    .dataframe thead th {\n",
       "        text-align: right;\n",
       "    }\n",
       "</style>\n",
       "<table border=\"1\" class=\"dataframe\">\n",
       "  <thead>\n",
       "    <tr style=\"text-align: right;\">\n",
       "      <th></th>\n",
       "      <th>age</th>\n",
       "      <th>gender</th>\n",
       "      <th>bmi</th>\n",
       "      <th>children</th>\n",
       "      <th>smoker</th>\n",
       "      <th>region</th>\n",
       "      <th>charges</th>\n",
       "    </tr>\n",
       "  </thead>\n",
       "  <tbody>\n",
       "    <tr>\n",
       "      <th>0</th>\n",
       "      <td>0.246275</td>\n",
       "      <td>-1.004283</td>\n",
       "      <td>0.780708</td>\n",
       "      <td>0.766277</td>\n",
       "      <td>-0.481227</td>\n",
       "      <td>-1.363714</td>\n",
       "      <td>0.531319</td>\n",
       "    </tr>\n",
       "    <tr>\n",
       "      <th>1</th>\n",
       "      <td>0.888174</td>\n",
       "      <td>-1.004283</td>\n",
       "      <td>2.539749</td>\n",
       "      <td>3.277018</td>\n",
       "      <td>-0.481227</td>\n",
       "      <td>0.431555</td>\n",
       "      <td>-0.026221</td>\n",
       "    </tr>\n",
       "    <tr>\n",
       "      <th>2</th>\n",
       "      <td>1.030818</td>\n",
       "      <td>-1.004283</td>\n",
       "      <td>-1.247851</td>\n",
       "      <td>1.603191</td>\n",
       "      <td>-0.481227</td>\n",
       "      <td>1.329190</td>\n",
       "      <td>-0.068603</td>\n",
       "    </tr>\n",
       "    <tr>\n",
       "      <th>3</th>\n",
       "      <td>-1.465457</td>\n",
       "      <td>0.995736</td>\n",
       "      <td>-1.628205</td>\n",
       "      <td>0.766277</td>\n",
       "      <td>-0.481227</td>\n",
       "      <td>-0.466079</td>\n",
       "      <td>-0.859194</td>\n",
       "    </tr>\n",
       "    <tr>\n",
       "      <th>4</th>\n",
       "      <td>-1.251490</td>\n",
       "      <td>-1.004283</td>\n",
       "      <td>-0.319689</td>\n",
       "      <td>-0.907551</td>\n",
       "      <td>-0.481227</td>\n",
       "      <td>0.431555</td>\n",
       "      <td>-0.914245</td>\n",
       "    </tr>\n",
       "    <tr>\n",
       "      <th>...</th>\n",
       "      <td>...</td>\n",
       "      <td>...</td>\n",
       "      <td>...</td>\n",
       "      <td>...</td>\n",
       "      <td>...</td>\n",
       "      <td>...</td>\n",
       "      <td>...</td>\n",
       "    </tr>\n",
       "    <tr>\n",
       "      <th>931</th>\n",
       "      <td>-0.680913</td>\n",
       "      <td>-1.004283</td>\n",
       "      <td>-0.461625</td>\n",
       "      <td>-0.907551</td>\n",
       "      <td>-0.481227</td>\n",
       "      <td>-1.363714</td>\n",
       "      <td>-0.745693</td>\n",
       "    </tr>\n",
       "    <tr>\n",
       "      <th>932</th>\n",
       "      <td>-1.536779</td>\n",
       "      <td>-1.004283</td>\n",
       "      <td>1.171429</td>\n",
       "      <td>-0.907551</td>\n",
       "      <td>-0.481227</td>\n",
       "      <td>0.431555</td>\n",
       "      <td>-0.958927</td>\n",
       "    </tr>\n",
       "    <tr>\n",
       "      <th>933</th>\n",
       "      <td>1.387429</td>\n",
       "      <td>-1.004283</td>\n",
       "      <td>-1.143392</td>\n",
       "      <td>-0.907551</td>\n",
       "      <td>2.078024</td>\n",
       "      <td>-0.466079</td>\n",
       "      <td>1.087342</td>\n",
       "    </tr>\n",
       "    <tr>\n",
       "      <th>934</th>\n",
       "      <td>-1.037524</td>\n",
       "      <td>0.995736</td>\n",
       "      <td>0.399556</td>\n",
       "      <td>0.766277</td>\n",
       "      <td>2.078024</td>\n",
       "      <td>0.431555</td>\n",
       "      <td>1.976218</td>\n",
       "    </tr>\n",
       "    <tr>\n",
       "      <th>935</th>\n",
       "      <td>1.316107</td>\n",
       "      <td>-1.004283</td>\n",
       "      <td>-0.896999</td>\n",
       "      <td>-0.907551</td>\n",
       "      <td>-0.481227</td>\n",
       "      <td>1.329190</td>\n",
       "      <td>-0.090499</td>\n",
       "    </tr>\n",
       "  </tbody>\n",
       "</table>\n",
       "<p>936 rows × 7 columns</p>\n",
       "</div>"
      ],
      "text/plain": [
       "          age    gender       bmi  children    smoker    region   charges\n",
       "0    0.246275 -1.004283  0.780708  0.766277 -0.481227 -1.363714  0.531319\n",
       "1    0.888174 -1.004283  2.539749  3.277018 -0.481227  0.431555 -0.026221\n",
       "2    1.030818 -1.004283 -1.247851  1.603191 -0.481227  1.329190 -0.068603\n",
       "3   -1.465457  0.995736 -1.628205  0.766277 -0.481227 -0.466079 -0.859194\n",
       "4   -1.251490 -1.004283 -0.319689 -0.907551 -0.481227  0.431555 -0.914245\n",
       "..        ...       ...       ...       ...       ...       ...       ...\n",
       "931 -0.680913 -1.004283 -0.461625 -0.907551 -0.481227 -1.363714 -0.745693\n",
       "932 -1.536779 -1.004283  1.171429 -0.907551 -0.481227  0.431555 -0.958927\n",
       "933  1.387429 -1.004283 -1.143392 -0.907551  2.078024 -0.466079  1.087342\n",
       "934 -1.037524  0.995736  0.399556  0.766277  2.078024  0.431555  1.976218\n",
       "935  1.316107 -1.004283 -0.896999 -0.907551 -0.481227  1.329190 -0.090499\n",
       "\n",
       "[936 rows x 7 columns]"
      ]
     },
     "execution_count": 86,
     "metadata": {},
     "output_type": "execute_result"
    }
   ],
   "source": [
    "sc = StandardScaler()  \n",
    "train_data = sc.fit_transform(train_data) \n",
    "train_data = pd.DataFrame(data=train_data,columns=['age','gender','bmi','children','smoker','region','charges'])\n",
    "train_data  "
   ]
  },
  {
   "cell_type": "code",
   "execution_count": 87,
   "id": "4294ca88",
   "metadata": {},
   "outputs": [
    {
     "data": {
      "text/html": [
       "<div>\n",
       "<style scoped>\n",
       "    .dataframe tbody tr th:only-of-type {\n",
       "        vertical-align: middle;\n",
       "    }\n",
       "\n",
       "    .dataframe tbody tr th {\n",
       "        vertical-align: top;\n",
       "    }\n",
       "\n",
       "    .dataframe thead th {\n",
       "        text-align: right;\n",
       "    }\n",
       "</style>\n",
       "<table border=\"1\" class=\"dataframe\">\n",
       "  <thead>\n",
       "    <tr style=\"text-align: right;\">\n",
       "      <th></th>\n",
       "      <th>age</th>\n",
       "      <th>gender</th>\n",
       "      <th>bmi</th>\n",
       "      <th>children</th>\n",
       "      <th>smoker</th>\n",
       "      <th>region</th>\n",
       "      <th>charges</th>\n",
       "    </tr>\n",
       "  </thead>\n",
       "  <tbody>\n",
       "    <tr>\n",
       "      <th>0</th>\n",
       "      <td>-0.029529</td>\n",
       "      <td>-1.025193</td>\n",
       "      <td>-0.475687</td>\n",
       "      <td>-0.911522</td>\n",
       "      <td>-0.567775</td>\n",
       "      <td>1.379649</td>\n",
       "      <td>-0.680733</td>\n",
       "    </tr>\n",
       "    <tr>\n",
       "      <th>1</th>\n",
       "      <td>-1.024681</td>\n",
       "      <td>-1.025193</td>\n",
       "      <td>-0.652650</td>\n",
       "      <td>-0.911522</td>\n",
       "      <td>-0.567775</td>\n",
       "      <td>-1.393446</td>\n",
       "      <td>-0.862630</td>\n",
       "    </tr>\n",
       "    <tr>\n",
       "      <th>2</th>\n",
       "      <td>-0.029529</td>\n",
       "      <td>0.975426</td>\n",
       "      <td>-0.434101</td>\n",
       "      <td>0.717064</td>\n",
       "      <td>-0.567775</td>\n",
       "      <td>-0.469081</td>\n",
       "      <td>-0.597287</td>\n",
       "    </tr>\n",
       "    <tr>\n",
       "      <th>3</th>\n",
       "      <td>-0.953599</td>\n",
       "      <td>-1.025193</td>\n",
       "      <td>-1.375543</td>\n",
       "      <td>-0.097229</td>\n",
       "      <td>-0.567775</td>\n",
       "      <td>-0.469081</td>\n",
       "      <td>-0.819978</td>\n",
       "    </tr>\n",
       "    <tr>\n",
       "      <th>4</th>\n",
       "      <td>0.965622</td>\n",
       "      <td>0.975426</td>\n",
       "      <td>2.037186</td>\n",
       "      <td>0.717064</td>\n",
       "      <td>1.761261</td>\n",
       "      <td>0.455284</td>\n",
       "      <td>2.578768</td>\n",
       "    </tr>\n",
       "    <tr>\n",
       "      <th>...</th>\n",
       "      <td>...</td>\n",
       "      <td>...</td>\n",
       "      <td>...</td>\n",
       "      <td>...</td>\n",
       "      <td>...</td>\n",
       "      <td>...</td>\n",
       "      <td>...</td>\n",
       "    </tr>\n",
       "    <tr>\n",
       "      <th>397</th>\n",
       "      <td>0.468047</td>\n",
       "      <td>-1.025193</td>\n",
       "      <td>-0.434985</td>\n",
       "      <td>0.717064</td>\n",
       "      <td>-0.567775</td>\n",
       "      <td>0.455284</td>\n",
       "      <td>-0.436991</td>\n",
       "    </tr>\n",
       "    <tr>\n",
       "      <th>398</th>\n",
       "      <td>0.681293</td>\n",
       "      <td>-1.025193</td>\n",
       "      <td>-0.534969</td>\n",
       "      <td>-0.097229</td>\n",
       "      <td>-0.567775</td>\n",
       "      <td>-1.393446</td>\n",
       "      <td>-0.364504</td>\n",
       "    </tr>\n",
       "    <tr>\n",
       "      <th>399</th>\n",
       "      <td>-1.380092</td>\n",
       "      <td>0.975426</td>\n",
       "      <td>-0.837576</td>\n",
       "      <td>-0.911522</td>\n",
       "      <td>-0.567775</td>\n",
       "      <td>-0.469081</td>\n",
       "      <td>-0.972626</td>\n",
       "    </tr>\n",
       "    <tr>\n",
       "      <th>400</th>\n",
       "      <td>-0.456023</td>\n",
       "      <td>0.975426</td>\n",
       "      <td>0.214468</td>\n",
       "      <td>-0.097229</td>\n",
       "      <td>-0.567775</td>\n",
       "      <td>1.379649</td>\n",
       "      <td>-0.782444</td>\n",
       "    </tr>\n",
       "    <tr>\n",
       "      <th>401</th>\n",
       "      <td>1.107787</td>\n",
       "      <td>0.975426</td>\n",
       "      <td>1.818637</td>\n",
       "      <td>1.531356</td>\n",
       "      <td>1.761261</td>\n",
       "      <td>-1.393446</td>\n",
       "      <td>2.678322</td>\n",
       "    </tr>\n",
       "  </tbody>\n",
       "</table>\n",
       "<p>402 rows × 7 columns</p>\n",
       "</div>"
      ],
      "text/plain": [
       "          age    gender       bmi  children    smoker    region   charges\n",
       "0   -0.029529 -1.025193 -0.475687 -0.911522 -0.567775  1.379649 -0.680733\n",
       "1   -1.024681 -1.025193 -0.652650 -0.911522 -0.567775 -1.393446 -0.862630\n",
       "2   -0.029529  0.975426 -0.434101  0.717064 -0.567775 -0.469081 -0.597287\n",
       "3   -0.953599 -1.025193 -1.375543 -0.097229 -0.567775 -0.469081 -0.819978\n",
       "4    0.965622  0.975426  2.037186  0.717064  1.761261  0.455284  2.578768\n",
       "..        ...       ...       ...       ...       ...       ...       ...\n",
       "397  0.468047 -1.025193 -0.434985  0.717064 -0.567775  0.455284 -0.436991\n",
       "398  0.681293 -1.025193 -0.534969 -0.097229 -0.567775 -1.393446 -0.364504\n",
       "399 -1.380092  0.975426 -0.837576 -0.911522 -0.567775 -0.469081 -0.972626\n",
       "400 -0.456023  0.975426  0.214468 -0.097229 -0.567775  1.379649 -0.782444\n",
       "401  1.107787  0.975426  1.818637  1.531356  1.761261 -1.393446  2.678322\n",
       "\n",
       "[402 rows x 7 columns]"
      ]
     },
     "execution_count": 87,
     "metadata": {},
     "output_type": "execute_result"
    }
   ],
   "source": [
    "sc = StandardScaler()  \n",
    "test_data = sc.fit_transform(test_data) \n",
    "test_data = pd.DataFrame(data=test_data,columns=['age','gender','bmi','children','smoker','region','charges'])\n",
    "test_data  "
   ]
  },
  {
   "cell_type": "markdown",
   "id": "35a57a0f",
   "metadata": {},
   "source": [
    "# Modeling "
   ]
  },
  {
   "cell_type": "code",
   "execution_count": 88,
   "id": "22a64b61",
   "metadata": {},
   "outputs": [],
   "source": [
    "from sklearn.linear_model import LogisticRegression   \n",
    "from sklearn.svm import SVC,LinearSVC   \n",
    "from sklearn.ensemble import RandomForestClassifier   \n",
    "from sklearn.neighbors import KNeighborsClassifier  \n",
    "from sklearn.naive_bayes import GaussianNB   \n",
    "from sklearn.linear_model import Perceptron  \n",
    "from sklearn.linear_model import SGDClassifier  \n",
    "from sklearn.tree import DecisionTreeClassifier  "
   ]
  },
  {
   "cell_type": "markdown",
   "id": "18971278",
   "metadata": {},
   "source": [
    "## Logistic regression "
   ]
  },
  {
   "cell_type": "code",
   "execution_count": 90,
   "id": "941909de",
   "metadata": {},
   "outputs": [
    {
     "name": "stdout",
     "output_type": "stream",
     "text": [
      "Linear Regression Model - Test Score： 88.35\n"
     ]
    }
   ],
   "source": [
    "lr = LogisticRegression()\n",
    "\n",
    "lr.fit(train_data, train_label) \n",
    "\n",
    "y_pred_lr = lr.predict(test_data) \n",
    "\n",
    "acc_lr = round(lr.score(train_data,train_label)*100,2)\n",
    "print('Linear Regression Model - Test Score：',acc_lr)  "
   ]
  },
  {
   "cell_type": "code",
   "execution_count": 93,
   "id": "eb93b657",
   "metadata": {},
   "outputs": [
    {
     "data": {
      "text/plain": [
       "Index(['age', 'gender', 'bmi', 'children', 'smoker', 'region', 'charges'], dtype='object')"
      ]
     },
     "execution_count": 93,
     "metadata": {},
     "output_type": "execute_result"
    }
   ],
   "source": [
    "train_data.columns"
   ]
  },
  {
   "cell_type": "code",
   "execution_count": 94,
   "id": "0f114442",
   "metadata": {},
   "outputs": [
    {
     "data": {
      "text/plain": [
       "Text(0.5, 0, 'Importance')"
      ]
     },
     "execution_count": 94,
     "metadata": {},
     "output_type": "execute_result"
    },
    {
     "data": {
      "image/png": "[encoded data removed]",
      "text/plain": [
       "<Figure size 864x576 with 1 Axes>"
      ]
     },
     "metadata": {
      "needs_background": "light"
     },
     "output_type": "display_data"
    }
   ],
   "source": [
    "# feature importance \n",
    "coef = list(lr.coef_[0]) \n",
    "labels = list(train_data.columns) \n",
    "features = pd.DataFrame() \n",
    "features['Features'] = labels \n",
    "features['importance'] = coef \n",
    "features.sort_values(by=['importance'],ascending=True,inplace=True) \n",
    "features['positive'] = features['importance'] > 0 \n",
    "\n",
    "features.set_index('Features',inplace=True) \n",
    "features.importance.plot(kind='barh',figsize=(12,8),color=features.positive.map({True: 'blue', False:'red'})) \n",
    "plt.xlabel('Importance')                         "
   ]
  },
  {
   "cell_type": "markdown",
   "id": "afe3bb3f",
   "metadata": {},
   "source": [
    "- BMI and smoking have significant influence on the model \n",
    "- Children has negative influence on the model: more children (dependents) are correlated with a policyholder not taken insurance claim "
   ]
  },
  {
   "cell_type": "markdown",
   "id": "f11fb225",
   "metadata": {},
   "source": [
    "## Support Vector Machine "
   ]
  },
  {
   "cell_type": "code",
   "execution_count": 108,
   "id": "c63dfbc9",
   "metadata": {},
   "outputs": [
    {
     "name": "stdout",
     "output_type": "stream",
     "text": [
      "Support Vector Machine Model - Test Score： 91.77\n"
     ]
    }
   ],
   "source": [
    "# creating the model\n",
    "svc = SVC()\n",
    "# feeding the training data to the model\n",
    "svc.fit(train_data, train_label)\n",
    "# predicting the test set results\n",
    "y_pred_svc = svc.predict(test_data) \n",
    "\n",
    "acc_svc = round(svc.score(train_data,train_label)*100,2)\n",
    "print('Support Vector Machine Model - Test Score：',acc_svc) "
   ]
  },
  {
   "cell_type": "markdown",
   "id": "013d98be",
   "metadata": {},
   "source": [
    "## Linear SVC"
   ]
  },
  {
   "cell_type": "code",
   "execution_count": 92,
   "id": "c8fd1de0",
   "metadata": {},
   "outputs": [
    {
     "name": "stdout",
     "output_type": "stream",
     "text": [
      "Linear Support Vector Machine Model - Test Score： 87.71\n"
     ]
    }
   ],
   "source": [
    "linearSVC = LinearSVC()\n",
    "\n",
    "linearSVC.fit(train_data,train_label)\n",
    "y_pred=linearSVC.predict(test_data) \n",
    "acc_linearSVC = round(linearSVC.score(train_data,train_label)*100,2)\n",
    "print('Linear Support Vector Machine Model - Test Score：',acc_linearSVC)\n"
   ]
  },
  {
   "cell_type": "markdown",
   "id": "28577ffa",
   "metadata": {},
   "source": [
    "## KNN "
   ]
  },
  {
   "cell_type": "code",
   "execution_count": 96,
   "id": "c29956da",
   "metadata": {},
   "outputs": [
    {
     "name": "stdout",
     "output_type": "stream",
     "text": [
      "KNN Model - Test Score： 94.12\n"
     ]
    }
   ],
   "source": [
    "knn = KNeighborsClassifier(n_neighbors=3)\n",
    "knn.fit(train_data,train_label)\n",
    "y_pred = knn.predict(test_data)\n",
    "acc_knn = round(knn.score(train_data,train_label)*100,2)\n",
    "\n",
    "print('KNN Model - Test Score：',acc_knn) \n"
   ]
  },
  {
   "cell_type": "markdown",
   "id": "bcaf2bbf",
   "metadata": {},
   "source": [
    "## Naive Bayes "
   ]
  },
  {
   "cell_type": "code",
   "execution_count": 97,
   "id": "5623e39b",
   "metadata": {},
   "outputs": [
    {
     "name": "stdout",
     "output_type": "stream",
     "text": [
      "Naive Bayes Model - Test Score： 72.76\n"
     ]
    }
   ],
   "source": [
    "gaussian = GaussianNB()\n",
    "gaussian.fit(train_data,train_label)\n",
    "y_pred = gaussian.predict(test_data)\n",
    "acc_gaussian = round(gaussian.score(train_data,train_label)*100,2)\n",
    "\n",
    "print('Naive Bayes Model - Test Score：',acc_gaussian)  \n"
   ]
  },
  {
   "cell_type": "markdown",
   "id": "5b5e9b03",
   "metadata": {},
   "source": [
    "## Decision Tree "
   ]
  },
  {
   "cell_type": "code",
   "execution_count": 107,
   "id": "bcd7104c",
   "metadata": {},
   "outputs": [
    {
     "name": "stdout",
     "output_type": "stream",
     "text": [
      "Decision Tree Model - Test Score： 100.0\n"
     ]
    }
   ],
   "source": [
    "decisionTree=DecisionTreeClassifier()\n",
    "decisionTree.fit(train_data,train_label)\n",
    "y_pred = decisionTree.predict(test_data)   \n",
    "acc_decisionTree = round(decisionTree.score(train_data,train_label)*100,2)\n",
    "\n",
    "print('Decision Tree Model - Test Score：',acc_decisionTree) "
   ]
  },
  {
   "cell_type": "markdown",
   "id": "c6dd58a3",
   "metadata": {},
   "source": [
    "## Random Forest "
   ]
  },
  {
   "cell_type": "code",
   "execution_count": 106,
   "id": "fc67a36f",
   "metadata": {},
   "outputs": [
    {
     "name": "stdout",
     "output_type": "stream",
     "text": [
      "Random Forest Test Score： 100.0\n"
     ]
    }
   ],
   "source": [
    "randomForest = RandomForestClassifier(n_estimators=300,max_depth=10)\n",
    "randomForest.fit(train_data,train_label)\n",
    "y_pred = randomForest.predict(test_data) \n",
    "acc_randomForest = round(randomForest.score(train_data,train_label)*100,2)\n",
    "\n",
    "print('Random Forest Test Score：',acc_randomForest)\n"
   ]
  },
  {
   "cell_type": "markdown",
   "id": "75a62d60",
   "metadata": {},
   "source": [
    "# Comparison "
   ]
  },
  {
   "cell_type": "code",
   "execution_count": 109,
   "id": "fef579ae",
   "metadata": {},
   "outputs": [
    {
     "data": {
      "text/html": [
       "<div>\n",
       "<style scoped>\n",
       "    .dataframe tbody tr th:only-of-type {\n",
       "        vertical-align: middle;\n",
       "    }\n",
       "\n",
       "    .dataframe tbody tr th {\n",
       "        vertical-align: top;\n",
       "    }\n",
       "\n",
       "    .dataframe thead th {\n",
       "        text-align: right;\n",
       "    }\n",
       "</style>\n",
       "<table border=\"1\" class=\"dataframe\">\n",
       "  <thead>\n",
       "    <tr style=\"text-align: right;\">\n",
       "      <th></th>\n",
       "      <th>Model</th>\n",
       "      <th>Score</th>\n",
       "    </tr>\n",
       "  </thead>\n",
       "  <tbody>\n",
       "    <tr>\n",
       "      <th>3</th>\n",
       "      <td>Random Forest</td>\n",
       "      <td>100.00</td>\n",
       "    </tr>\n",
       "    <tr>\n",
       "      <th>6</th>\n",
       "      <td>Decision Tree</td>\n",
       "      <td>100.00</td>\n",
       "    </tr>\n",
       "    <tr>\n",
       "      <th>1</th>\n",
       "      <td>KNN</td>\n",
       "      <td>94.12</td>\n",
       "    </tr>\n",
       "    <tr>\n",
       "      <th>0</th>\n",
       "      <td>SVC</td>\n",
       "      <td>91.77</td>\n",
       "    </tr>\n",
       "    <tr>\n",
       "      <th>2</th>\n",
       "      <td>Logistic Regression</td>\n",
       "      <td>88.35</td>\n",
       "    </tr>\n",
       "    <tr>\n",
       "      <th>5</th>\n",
       "      <td>Linear SVC</td>\n",
       "      <td>87.71</td>\n",
       "    </tr>\n",
       "    <tr>\n",
       "      <th>4</th>\n",
       "      <td>Naive Bayesian</td>\n",
       "      <td>72.76</td>\n",
       "    </tr>\n",
       "  </tbody>\n",
       "</table>\n",
       "</div>"
      ],
      "text/plain": [
       "                 Model   Score\n",
       "3        Random Forest  100.00\n",
       "6        Decision Tree  100.00\n",
       "1                  KNN   94.12\n",
       "0                  SVC   91.77\n",
       "2  Logistic Regression   88.35\n",
       "5           Linear SVC   87.71\n",
       "4       Naive Bayesian   72.76"
      ]
     },
     "execution_count": 109,
     "metadata": {},
     "output_type": "execute_result"
    }
   ],
   "source": [
    "models=pd.DataFrame({\n",
    "    'Model':['SVC','KNN','Logistic Regression','Random Forest','Naive Bayesian',\n",
    "             'Linear SVC','Decision Tree'],\n",
    "    'Score':[acc_svc,acc_knn,acc_lr,acc_randomForest,acc_gaussian,\n",
    "             acc_linearSVC,acc_decisionTree]})\n",
    "models.sort_values(by='Score',ascending=False)  "
   ]
  },
  {
   "attachments": {},
   "cell_type": "markdown",
   "id": "9e5d649a",
   "metadata": {},
   "source": [
    "- We choose **Random Forest** model for prediction \n",
    "\n",
    "- The decision tree model gives high importance to a particular set of features. But the random forest chooses features randomly during the training process. Therefore, it does not depend highly on any specific set of features. \n",
    "- Therefore, the random forest can generalize over the data in a better way. This randomized feature selection makes random forest much more accurate than a decision tree."
   ]
  },
  {
   "cell_type": "markdown",
   "id": "e10ea49d",
   "metadata": {},
   "source": [
    "# Prediction "
   ]
  },
  {
   "cell_type": "code",
   "execution_count": 110,
   "id": "4ef70407",
   "metadata": {},
   "outputs": [
    {
     "name": "stdout",
     "output_type": "stream",
     "text": [
      "Random Forest Prediction Score： 93.53\n"
     ]
    }
   ],
   "source": [
    "randomForest = RandomForestClassifier(n_estimators=300,max_depth=10)\n",
    "randomForest.fit(train_data,train_label)\n",
    "y_pred = randomForest.predict(test_data) \n",
    "\n",
    "acc_randomForest = round(randomForest.score(test_data,test_label)*100,2)\n",
    "\n",
    "print('Random Forest Prediction Score：',acc_randomForest) "
   ]
  },
  {
   "cell_type": "code",
   "execution_count": 113,
   "id": "7e89d58e",
   "metadata": {},
   "outputs": [
    {
     "name": "stdout",
     "output_type": "stream",
     "text": [
      "Insurance Claim Probability: [[0.97545891 0.02454109]]\n",
      "Insurance Claim Prediction: [0]\n"
     ]
    }
   ],
   "source": [
    "# make a prediction on a certain sample \n",
    "sample = test_data[2:3] \n",
    "\n",
    "predict_probability = randomForest.predict_proba(sample) \n",
    "prediction = randomForest.predict(sample) \n",
    "print('Insurance Claim Probability:', predict_probability)\n",
    "print('Insurance Claim Prediction:', prediction) "
   ]
  },
  {
   "cell_type": "code",
   "execution_count": null,
   "id": "db764907",
   "metadata": {},
   "outputs": [],
   "source": []
  }
 ],
 "metadata": {
  "kernelspec": {
   "display_name": "Python 3 (ipykernel)",
   "language": "python",
   "name": "python3"
  },
  "language_info": {
   "codemirror_mode": {
    "name": "ipython",
    "version": 3
   },
   "file_extension": ".py",
   "mimetype": "text/x-python",
   "name": "python",
   "nbconvert_exporter": "python",
   "pygments_lexer": "ipython3",
   "version": "3.7.13"
  },
  "nbTranslate": {
   "displayLangs": [
    "*"
   ],
   "hotkey": "alt-t",
   "langInMainMenu": true,
   "sourceLang": "en",
   "targetLang": "fr",
   "useGoogleTranslate": true
  },
  "toc": {
   "base_numbering": 1,
   "nav_menu": {},
   "number_sections": true,
   "sideBar": true,
   "skip_h1_title": false,
   "title_cell": "Table of Contents",
   "title_sidebar": "Contents",
   "toc_cell": false,
   "toc_position": {},
   "toc_section_display": true,
   "toc_window_display": false
  },
  "varInspector": {
   "cols": {
    "lenName": 16,
    "lenType": 16,
    "lenVar": 40
   },
   "kernels_config": {
    "python": {
     "delete_cmd_postfix": "",
     "delete_cmd_prefix": "del ",
     "library": "var_list.py",
     "varRefreshCmd": "print(var_dic_list())"
    },
    "r": {
     "delete_cmd_postfix": ") ",
     "delete_cmd_prefix": "rm(",
     "library": "var_list.r",
     "varRefreshCmd": "cat(var_dic_list()) "
    }
   },
   "types_to_exclude": [
    "module",
    "function",
    "builtin_function_or_method",
    "instance",
    "_Feature"
   ],
   "window_display": false
  }
 },
 "nbformat": 4,
 "nbformat_minor": 5
}
